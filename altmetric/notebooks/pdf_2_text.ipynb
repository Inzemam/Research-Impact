{
 "cells": [
  {
   "cell_type": "code",
   "execution_count": 20,
   "metadata": {},
   "outputs": [
    {
     "name": "stdout",
     "output_type": "stream",
     "text": [
      "../document_pdfs/A National Trauma Care System- Integrating Military and Civilian Trauma Systems to Achieve Zero Preventable Deaths After Injury.pdf\n",
      "../document_pdfs/A systematic review of public health emergency operations centres (EOC)- December 2013.pdf\n",
      "../document_pdfs/Adopting a Territorial Approach to Food Security and Nutrition Policy.pdf\n",
      "../document_pdfs/Assessing the potential for crowdfunding and other forms of alternative finance to support research and innovation - EU Law and Publications- annexes.pdf\n",
      "../document_pdfs/Assessing the potential for crowdfunding and other forms of alternative finance to support research and innovation - EU Law and Publications- report.pdf\n",
      "../document_pdfs/Boosting productivity in the services sector- 2nd interim report - competition and ICT topics.pdf\n",
      "../document_pdfs/Business models for eHealth - EU Law and Publications.pdf\n"
     ]
    },
    {
     "name": "stderr",
     "output_type": "stream",
     "text": [
      "PdfReadWarning: Xref table not zero-indexed. ID numbers for objects will be corrected. [pdf.py:1736]\n"
     ]
    },
    {
     "name": "stdout",
     "output_type": "stream",
     "text": [
      "../document_pdfs/Career Choices of Female Engineers- A Summary of a Workshop.pdf\n",
      "../document_pdfs/Context dependency of medical devices.pdf\n",
      "../document_pdfs/Copycats? Digital consumers in the online age.pdf\n",
      "../document_pdfs/Copyright protection and innovation in the presence of commercial piracy.pdf\n",
      "../document_pdfs/Crowdfunding from an investor perspective - EU Law and Publications.pdf\n",
      "../document_pdfs/Cultural_Institutions_and_Web_2_0.pdf\n",
      "../document_pdfs/Data Management and Governance Practices.pdf\n",
      "../document_pdfs/DIGITAL DARK MATTER AND THE ECONOMIC CONTRIBUTION OF APACHE.pdf\n",
      "../document_pdfs/Digital technology access and use among socially and economically disadvantaged groups in South Australia.pdf\n",
      "../document_pdfs/Digitalization and the American workforce.pdf\n",
      "../document_pdfs/DIGITIZATION AND THE CONTRACT LABOR MARKET.pdf\n",
      "../document_pdfs/Distributed Geolibraries- Spatial Information Resources, Summary of a Workshop.pdf\n",
      "../document_pdfs/Enhancing the Effectiveness of Team Science.pdf\n",
      "../document_pdfs/Evaluating the user perceived usefulness of enterprise social networking.pdf\n",
      "../document_pdfs/Factors impacting teachers’ adoption of mobile learning.pdf\n",
      "../document_pdfs/Follow_your_bliss_or_show_me_the_money.pdf\n",
      "../document_pdfs/Fostering Research on the Economic and Social Impacts of Information Technology.pdf\n",
      "../document_pdfs/Guidebook to Creating a Collaborative Environment Between Airport Operations and Maintenance.pdf\n",
      "../document_pdfs/hie_returns.pdf\n",
      "../document_pdfs/Homeless and connected- mobile phones and the Internet in the lives of homeless Australians.pdf\n",
      "../document_pdfs/ICT and Productivity- A Review of the Literature.pdf\n",
      "ERROR\n",
      "../document_pdfs/ICT and Regional Economic Dynamics- A Literature Review.pdf\n",
      "../document_pdfs/Index on digital life.pdf\n",
      "../document_pdfs/Information Technology in the Service Society- A Twenty-First Century Lever.pdf\n",
      "../document_pdfs/Integrity and Accountability in Education in Tajikistan.pdf\n",
      "../document_pdfs/Intellectual property arrangements.pdf\n",
      "ERROR\n",
      "../document_pdfs/Knowledge infrastructures- intellectual frameworks and research challenges.pdf\n",
      "ERROR\n",
      "../document_pdfs/Learning and Results in World Bank Operations- How the Bank Learns.pdf\n",
      "../document_pdfs/Learning and teaching technology options - EU Law and Publications.pdf\n",
      "../document_pdfs/Literature review to inform the future digitisation of Jobcentre Plusservice delivery (RR679)- report.pdf\n",
      "../document_pdfs/Monitoring HIV Care in the United States- Indicators and Data Systems.pdf\n",
      "../document_pdfs/online search - consumer and firm behaivour.pdf\n",
      "../document_pdfs/Open innovation in industry, including 3D printing - EU Law and Publications.pdf\n",
      "../document_pdfs/Out of the Border Labyrinth- An Assessment of Trade Facilitation Initiatives in Latin America and the Caribbean.pdf\n",
      "ERROR\n",
      "../document_pdfs/Precision Agriculture in the 21st Century- Geospatial and Information Technologies in Crop Management.pdf\n",
      "../document_pdfs/Presentation of digital self in everyday life.pdf\n",
      "../document_pdfs/Public access, private mobile- the interplay of shared access and the mobile Internet for teenagers in Cape Town.pdf\n",
      "../document_pdfs/Public health implications of excessive use of the internet, computers, smartphones and similar electronic devices.pdf\n",
      "../document_pdfs/Research Recommendations to Facilitate Distributed Work.pdf\n",
      "../document_pdfs/Science, Technology and Skills.pdf\n",
      "../document_pdfs/SLACK TIME AND INNOVATION.pdf\n",
      "../document_pdfs/Socio-economic Benefits from the Use of Earth Ubservation.pdf\n",
      "../document_pdfs/Stewardship and Usefulness- Policy Principles for Information-based Transparency.pdf\n",
      "../document_pdfs/Study on the social impact of ICT - EU Law and Publications.pdf\n",
      "../document_pdfs/Sustainable Value Creation in Networked Working Environments.pdf\n",
      "../document_pdfs/Tech-Giants-and-Civic-Power.pdf\n",
      "../document_pdfs/The Internet economy 25 years after .com- transforming life and commerce.pdf\n",
      "../document_pdfs/THE NATURE AND INCIDENCE OF SOFTWARE PIRACY- EVIDENCE FROM WINDOWS.pdf\n",
      "../document_pdfs/The tradeoff fallacy- how marketers are misrepresenting American consumers and opening them up to exploitation.pdf\n",
      "../document_pdfs/The virtual university- impact on Australian accounting and business education.pdf\n",
      "../document_pdfs/Threatening Communications and Behavior- Perspectives on the Pursuit of Public Figures.pdf\n",
      "../document_pdfs/Towards responsive regulation of the Internet of Things- Australian perspectives.pdf\n",
      "../document_pdfs/Trust and confidence in pensions- A literature review.pdf\n"
     ]
    }
   ],
   "source": [
    "import PyPDF2\n",
    "all_pages=[]\n",
    "import glob, os\n",
    "for file in glob.glob(\"../document_pdfs/*.pdf\"):\n",
    "    print(file)\n",
    "    pdfFileObj=open(file,\"rb\")\n",
    "    try:\n",
    "        pdfReader = PyPDF2.PdfFileReader(pdfFileObj) \n",
    "        for page in range(pdfReader.numPages):\n",
    "            try:\n",
    "                all_pages.append(pdfReader.getPage(page).extractText())\n",
    "            except:\n",
    "                print(\"ERROR\")\n",
    "                continue\n",
    "    except:\n",
    "        print(\"ERROR\")\n",
    "        continue"
   ]
  },
  {
   "cell_type": "code",
   "execution_count": 17,
   "metadata": {},
   "outputs": [],
   "source": [
    "        all_pages_clean=[page.replace(' ','') for page in all_pages]\n",
    "        all_pages_clean=[page.replace('\\t','') for page in all_pages_clean]\n",
    "        all_pages_clean=[page.replace('\\n','') for page in all_pages_clean]\n",
    "        all_pages_clean=[page.replace('-','') for page in all_pages_clean]\n",
    "        all_pages_clean=[page.replace('˜','') for page in all_pages_clean]\n",
    "        all_pages_clean=[page.lower() for page in all_pages_clean]\n",
    "        all_text=''.join(all_pages_clean)"
   ]
  },
  {
   "cell_type": "code",
   "execution_count": 18,
   "metadata": {},
   "outputs": [],
   "source": [
    "with open('../document_texts.txt','a') as f:\n",
    "    f.write(all_text)"
   ]
  },
  {
   "cell_type": "code",
   "execution_count": null,
   "metadata": {},
   "outputs": [],
   "source": []
  }
 ],
 "metadata": {
  "kernelspec": {
   "display_name": "Python 3",
   "language": "python",
   "name": "python3"
  },
  "language_info": {
   "codemirror_mode": {
    "name": "ipython",
    "version": 3
   },
   "file_extension": ".py",
   "mimetype": "text/x-python",
   "name": "python",
   "nbconvert_exporter": "python",
   "pygments_lexer": "ipython3",
   "version": "3.6.5"
  }
 },
 "nbformat": 4,
 "nbformat_minor": 2
}
