{
 "cells": [
  {
   "cell_type": "code",
   "execution_count": 10,
   "metadata": {},
   "outputs": [],
   "source": [
    "import json\n",
    "import csv\n",
    "import requests\n",
    "from bs4 import BeautifulSoup\n",
    "from IPython.core.display import display, HTML\n",
    "\n",
    "\n",
    "alt_base='https://api.altmetric.com/v1/doi/'\n",
    "alt_detail='https://www.altmetric.com/details/'\n",
    "json_file='1.json'\n",
    "\n",
    "with open(json_file, 'r') as f:\n",
    "    json_data = json.load(f)"
   ]
  },
  {
   "cell_type": "code",
   "execution_count": 7,
   "metadata": {},
   "outputs": [],
   "source": [
    "dois=[item['DOI'] for item in json_data['message']['items']]"
   ]
  },
  {
   "cell_type": "code",
   "execution_count": 13,
   "metadata": {},
   "outputs": [
    {
     "name": "stdout",
     "output_type": "stream",
     "text": [
      "404,"
     ]
    }
   ],
   "source": [
    "alt={}\n",
    "for doi in dois[0:1]:\n",
    "    alt_url=alt_base+doi\n",
    "    r = requests.get(alt_url)\n",
    "    print(r.status_code, end=',')\n",
    "    if r.status_code == 200:\n",
    "        alt[doi]=r.json()"
   ]
  },
  {
   "cell_type": "code",
   "execution_count": 219,
   "metadata": {},
   "outputs": [],
   "source": [
    "    #if 'cited_by_msm_count' in keys:\n",
    "    #if 'cited_by_patents_count' in keys:"
   ]
  },
  {
   "cell_type": "code",
   "execution_count": 14,
   "metadata": {},
   "outputs": [],
   "source": [
    "with open('jmis.txt', 'a') as out:\n",
    "    out.write('doi \\t article_title \\t policy_source \\t policy_date \\t policy_doc_title \\t policy_doc_link \\n')\n",
    "\n",
    "for doi in alt:\n",
    "    keys=alt[doi].keys()\n",
    "    if 'cited_by_policies_count' in keys:\n",
    "        alt_policy=alt_detail+str(alt[doi]['altmetric_id'])+'/policy-documents'\n",
    "        HTML(\"<a href=\"+alt_policy+\" target='_blank'>link</a>\")\n",
    "        r = requests.get(alt_policy)\n",
    "        soup = BeautifulSoup(r.text,\"html5lib\")\n",
    "        for item in soup.find_all('div',{'class':\"content with_image\"}):\n",
    "            article_title=alt[doi]['title']\n",
    "            policy_source=item.find('h4').text.split(' on ')[0].split('Cited by ')[1]\n",
    "            policy_date=item.find('h4').text.split(' on ')[1]\n",
    "            policy_doc_link=item.find().attrs['href']\n",
    "            policy_doc_title=item.find('h3').text\n",
    "            with open('jmis.txt', 'a') as out:\n",
    "                out.write(doi+'\\t'+article_title+'\\t'+policy_source+'\\t'+policy_date+'\\t'+policy_doc_title\n",
    "                          +'\\t'+policy_doc_link+ '\\n')\n"
   ]
  },
  {
   "cell_type": "code",
   "execution_count": null,
   "metadata": {},
   "outputs": [],
   "source": []
  }
 ],
 "metadata": {
  "kernelspec": {
   "display_name": "Python 3",
   "language": "python",
   "name": "python3"
  },
  "language_info": {
   "codemirror_mode": {
    "name": "ipython",
    "version": 3
   },
   "file_extension": ".py",
   "mimetype": "text/x-python",
   "name": "python",
   "nbconvert_exporter": "python",
   "pygments_lexer": "ipython3",
   "version": "3.6.5"
  }
 },
 "nbformat": 4,
 "nbformat_minor": 2
}
