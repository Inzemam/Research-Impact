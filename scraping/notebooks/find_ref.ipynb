{
 "cells": [
  {
   "cell_type": "code",
   "execution_count": 2,
   "metadata": {},
   "outputs": [],
   "source": [
    "import glob"
   ]
  },
  {
   "cell_type": "code",
   "execution_count": 6,
   "metadata": {},
   "outputs": [],
   "source": [
    "data_path=\"../../../../nap/pypdf/\""
   ]
  },
  {
   "cell_type": "code",
   "execution_count": 49,
   "metadata": {},
   "outputs": [
    {
     "data": {
      "text/plain": [
       "7306"
      ]
     },
     "execution_count": 49,
     "metadata": {},
     "output_type": "execute_result"
    }
   ],
   "source": [
    "js=['journal of management information systems','j. manage. info. systems']\n",
    "js=['information systems research']\n",
    "nap_texts=glob.glob(data_path+\"document_texts_clean/*.txt\")\n",
    "len(nap_texts)"
   ]
  },
  {
   "cell_type": "code",
   "execution_count": 50,
   "metadata": {},
   "outputs": [
    {
     "name": "stdout",
     "output_type": "stream",
     "text": [
      "1-../../../../nap/pypdf/document_texts_clean/5152.txtinformation systems research\n",
      "1-../../../../nap/pypdf/document_texts_clean/5580.txtinformation systems research\n",
      "2-../../../../nap/pypdf/document_texts_clean/6269.txtinformation systems research\n",
      "1-../../../../nap/pypdf/document_texts_clean/9460.txtinformation systems research\n",
      "3-../../../../nap/pypdf/document_texts_clean/10674.txtinformation systems research\n",
      "2-../../../../nap/pypdf/document_texts_clean/10860.txtinformation systems research\n",
      "1-../../../../nap/pypdf/document_texts_clean/13091.txtinformation systems research\n",
      "1-../../../../nap/pypdf/document_texts_clean/13472.txtinformation systems research\n",
      "2-../../../../nap/pypdf/document_texts_clean/13963.txtinformation systems research\n",
      "1-../../../../nap/pypdf/document_texts_clean/15853.txtinformation systems research\n",
      "1-../../../../nap/pypdf/document_texts_clean/19007.txtinformation systems research\n",
      "1-../../../../nap/pypdf/document_texts_clean/23480.txtinformation systems research\n",
      "1-../../../../nap/pypdf/document_texts_clean/24649.txtinformation systems research\n",
      "1-../../../../nap/pypdf/document_texts_clean/24723.txtinformation systems research\n",
      "1-../../../../nap/pypdf/document_texts_clean/2237.txtinformation systems research\n",
      "2-../../../../nap/pypdf/document_texts_clean/21781.txtinformation systems research\n"
     ]
    }
   ],
   "source": [
    "for j in js:\n",
    "    for nap_text in nap_texts:\n",
    "        with open(nap_text) as f:\n",
    "            count_ref=f.read().count(j)\n",
    "            if count_ref>0:\n",
    "                print (str(count_ref)+'-' +nap_text + j)"
   ]
  },
  {
   "cell_type": "code",
   "execution_count": null,
   "metadata": {},
   "outputs": [],
   "source": []
  }
 ],
 "metadata": {
  "kernelspec": {
   "display_name": "Python 3",
   "language": "python",
   "name": "python3"
  },
  "language_info": {
   "codemirror_mode": {
    "name": "ipython",
    "version": 3
   },
   "file_extension": ".py",
   "mimetype": "text/x-python",
   "name": "python",
   "nbconvert_exporter": "python",
   "pygments_lexer": "ipython3",
   "version": "3.7.0"
  }
 },
 "nbformat": 4,
 "nbformat_minor": 2
}
